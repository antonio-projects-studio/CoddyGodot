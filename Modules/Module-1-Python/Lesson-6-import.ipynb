{
 "cells": [
  {
   "cell_type": "code",
   "execution_count": 1,
   "metadata": {},
   "outputs": [],
   "source": [
    "from ipynb_settings import *"
   ]
  },
  {
   "cell_type": "markdown",
   "metadata": {},
   "source": [
    "# Импорт библиотек и файлов"
   ]
  },
  {
   "cell_type": "markdown",
   "metadata": {},
   "source": [
    "## Импорт файлов"
   ]
  },
  {
   "cell_type": "markdown",
   "metadata": {},
   "source": [
    "- Синтаксис:\n",
    "```python\n",
    "from <name_of_file> import <objects>\n",
    "```"
   ]
  },
  {
   "cell_type": "markdown",
   "metadata": {},
   "source": [
    "- В `file1.py` создали переменную $a = 10$. Наша задача получить её в `file2.py`"
   ]
  },
  {
   "cell_type": "code",
   "execution_count": 7,
   "metadata": {},
   "outputs": [],
   "source": [
    "#file1.py\n",
    "\n",
    "a = 10"
   ]
  },
  {
   "cell_type": "code",
   "execution_count": 8,
   "metadata": {},
   "outputs": [
    {
     "name": "stdout",
     "output_type": "stream",
     "text": [
      "10\n"
     ]
    }
   ],
   "source": [
    "#file2.py\n",
    "\n",
    "from file1 import a\n",
    "\n",
    "print(a)"
   ]
  },
  {
   "cell_type": "markdown",
   "metadata": {},
   "source": [
    "- Теперь мне надо импортировать две переменные. Как это сделать?"
   ]
  },
  {
   "cell_type": "code",
   "execution_count": 9,
   "metadata": {},
   "outputs": [],
   "source": [
    "#file1.py\n",
    "\n",
    "a = 1\n",
    "b = 2"
   ]
  },
  {
   "cell_type": "code",
   "execution_count": 10,
   "metadata": {},
   "outputs": [
    {
     "name": "stdout",
     "output_type": "stream",
     "text": [
      "1 2\n"
     ]
    }
   ],
   "source": [
    "#file2.py\n",
    "\n",
    "from file1 import a, b\n",
    "\n",
    "print(a, b)"
   ]
  },
  {
   "cell_type": "markdown",
   "metadata": {},
   "source": [
    "- Допустим 100 переменных, не буду же я их перечислять через запятую"
   ]
  },
  {
   "cell_type": "code",
   "execution_count": 11,
   "metadata": {},
   "outputs": [],
   "source": [
    "#file1.py\n",
    "\n",
    "a = 1\n",
    "b = 2\n",
    "с = 3"
   ]
  },
  {
   "cell_type": "code",
   "execution_count": 12,
   "metadata": {},
   "outputs": [
    {
     "name": "stdout",
     "output_type": "stream",
     "text": [
      "1 2 3\n"
     ]
    }
   ],
   "source": [
    "#file2.py\n",
    "\n",
    "from file1 import *\n",
    "\n",
    "print(a, b, с)"
   ]
  },
  {
   "cell_type": "markdown",
   "metadata": {},
   "source": [
    "- Вопрос: а что конкретно происходит при `import`?\n",
    "\n",
    "На самом деле, просто запускается файл. Продемонстрируем:"
   ]
  },
  {
   "cell_type": "code",
   "execution_count": null,
   "metadata": {},
   "outputs": [],
   "source": [
    "#file1.py\n",
    "print(\"запустился file1\")\n",
    "\n",
    "a = 1\n",
    "b = 2\n",
    "c = 3\n",
    "\n",
    "print(\"file1 закончил работу\")"
   ]
  },
  {
   "cell_type": "code",
   "execution_count": 14,
   "metadata": {},
   "outputs": [
    {
     "name": "stdout",
     "output_type": "stream",
     "text": [
      "запустился file2\n",
      "запустился file1\n",
      "file1 закончил работу\n",
      "1 2 3\n",
      "file2 закончил работу\n"
     ]
    }
   ],
   "source": [
    "#file2.py\n",
    "print(\"запустился file2\")\n",
    "\n",
    "from file1 import *\n",
    "print(a, b, c)\n",
    "\n",
    "print(\"file2 закончил работу\")"
   ]
  },
  {
   "cell_type": "markdown",
   "metadata": {},
   "source": [
    "Если просто запускаются файлы, а что будет, если я напишу несколько `import` одно и того же файла?\n",
    "```python \n",
    "from file1 import *\n",
    "from file1 import *\n",
    "from file1 import *\n",
    "```\n",
    "\n",
    "Повторно файл не будет запускаться, потому что `import` выполняется один раз"
   ]
  },
  {
   "cell_type": "markdown",
   "metadata": {},
   "source": [
    "## Папки"
   ]
  },
  {
   "cell_type": "markdown",
   "metadata": {},
   "source": [
    "### Явный импорт"
   ]
  },
  {
   "cell_type": "markdown",
   "metadata": {},
   "source": [
    "- Можем явно указать из какой папки какой файл ипортировать\n",
    "\n",
    "```python\n",
    "from <name_of_foldew>.<name_of_file> import * \n",
    "```"
   ]
  },
  {
   "cell_type": "code",
   "execution_count": 2,
   "metadata": {},
   "outputs": [
    {
     "name": "stdout",
     "output_type": "stream",
     "text": [
      "запустился main\n",
      "запустился file2\n",
      "запустился file1\n",
      "file1 закончил работу\n",
      "1 2 3\n",
      "file2 закончил работу\n",
      "1 2 3\n",
      "main завершил работу\n"
     ]
    }
   ],
   "source": [
    "#main.py\n",
    "\n",
    "print(\"запустился main\")\n",
    "\n",
    "from files.file2 import *\n",
    "print(a, b, c)\n",
    "\n",
    "print(\"main завершил работу\")"
   ]
  },
  {
   "cell_type": "markdown",
   "metadata": {},
   "source": [
    "Но не работает. Почему? \n",
    "\n",
    "Потому что в `file2` нужно теперь явно указать из какой папки импортировать, потому что без указани папки испортирутеся файл из рабочей папки (директории). Так как я запустил файл `main`, поменялась рабоча директория.\n",
    "```python\n",
    "from file1 import *\n",
    "```\n",
    " \n",
    "При попытке импортировать он не находит нужный файл в рабочей директории\n",
    "\n",
    "Решит нашу проблему следующий код:\n",
    "```python\n",
    "from .file1 import *\n",
    "```\n",
    "\n",
    "`.` означает текущую папку (что мы импортируем файл из той же папки, где он найходится)"
   ]
  },
  {
   "cell_type": "markdown",
   "metadata": {},
   "source": [
    "### Неявный импорт"
   ]
  },
  {
   "cell_type": "markdown",
   "metadata": {},
   "source": [
    "Теперь я хочу импортировать множество файлов из директории:\n",
    "\n",
    "```python\n",
    "from files import *\n",
    "```\n",
    "\n",
    "Для этого существует специальный файл, который называется `__init__.py`\n",
    "\n",
    "Строчка выше запускает `__init__.py`, который находится в папку `files`"
   ]
  },
  {
   "cell_type": "code",
   "execution_count": null,
   "metadata": {},
   "outputs": [],
   "source": [
    "#__init__.py\n",
    "\n",
    "print(\"Запустился __init__.py\")\n",
    "\n",
    "from .file2 import *\n",
    "\n",
    "print(\"__init__.py завершил работу\")"
   ]
  },
  {
   "cell_type": "markdown",
   "metadata": {},
   "source": [
    "То есть теперь, когда я из `main.py` импортирую папку `files`, запустится `__init__.py`, в котором я импортирую `file2`. Благодаря `__init__.py` мы можем настраивать локигу импортов внутри папки, а внешне просто её импортировать"
   ]
  },
  {
   "cell_type": "code",
   "execution_count": 2,
   "metadata": {},
   "outputs": [
    {
     "name": "stdout",
     "output_type": "stream",
     "text": [
      "запустился main\n",
      "запустился file2\n",
      "запустился file1\n",
      "file1 закончил работу\n",
      "1 2 3\n",
      "file2 закончил работу\n",
      "1 2 3\n",
      "main завершил работу\n"
     ]
    }
   ],
   "source": [
    "#main.py\n",
    "\n",
    "print(\"запустился main\")\n",
    "\n",
    "from files import *\n",
    "print(a, b, c)\n",
    "\n",
    "print(\"main завершил работу\")"
   ]
  },
  {
   "cell_type": "markdown",
   "metadata": {},
   "source": [
    "\n",
    "> Папки с файлом `__init__.py` называются **модулями**"
   ]
  },
  {
   "cell_type": "markdown",
   "metadata": {},
   "source": [
    "## Библиотеки"
   ]
  },
  {
   "cell_type": "markdown",
   "metadata": {},
   "source": [
    "Сначала библиотеку надо скачать, потом ипортировать в файл \\\n",
    "**Замечание**: многие библиотеки, например `math`, установлены `python` по умолчанию\n",
    "\n",
    "1. Для скачивания используем пакетный менеджер `pip`:\n",
    "```sh \n",
    "pip install <package name>\n",
    "```\n",
    "2. Как удалить пакет:\n",
    "```sh\n",
    "pip remove <package name>\n",
    "```\n",
    "3. Как посмотреть список пакетов:\n",
    "```sh\n",
    "pip list\n",
    "```\n",
    "4. Как записать все пакеты в файл:\n",
    "```sh\n",
    "pip freeze >> requirements.txt\n",
    "```\n",
    "**Замечание**: `requirements.txt` является стандартным именем для разработчиков на `python` \\\n",
    "5. Скачать библиотеки из установочного файлв:\n",
    "```sh\n",
    "pip install -r requirements.txt\n",
    "```\n",
    "6. Синтаксис для подключения библиотеки в файл:\n",
    "\n",
    "\t1. ```python\n",
    "\t   import <package name> as <nickname>\n",
    "\n",
    "\t   a = <nickname>.<something>\n",
    "\t   ```\n",
    "\t2. ```python\n",
    "\t   from  <package name> import <something>\n",
    "\n",
    "\t   a = <something>\n",
    "\t   ```"
   ]
  }
 ],
 "metadata": {
  "kernelspec": {
   "display_name": "sites_new",
   "language": "python",
   "name": "sites_new"
  },
  "language_info": {
   "codemirror_mode": {
    "name": "ipython",
    "version": 3
   },
   "file_extension": ".py",
   "mimetype": "text/x-python",
   "name": "python",
   "nbconvert_exporter": "python",
   "pygments_lexer": "ipython3",
   "version": "3.10.12"
  }
 },
 "nbformat": 4,
 "nbformat_minor": 2
}
