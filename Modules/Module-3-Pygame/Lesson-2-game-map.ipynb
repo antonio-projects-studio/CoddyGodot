{
 "cells": [
  {
   "cell_type": "code",
   "execution_count": 3,
   "metadata": {},
   "outputs": [],
   "source": [
    "from ipynb_settings import *"
   ]
  },
  {
   "cell_type": "markdown",
   "metadata": {},
   "source": [
    "# Первый запуск игры"
   ]
  },
  {
   "cell_type": "markdown",
   "metadata": {},
   "source": [
    " - Создаем два файла:\n",
    "\t1. `main.py` &mdash; для описания логики запуска игры\n",
    "\t2. `settings.py` &mdash; настройки игры"
   ]
  },
  {
   "cell_type": "code",
   "execution_count": 1,
   "metadata": {},
   "outputs": [],
   "source": [
    "# settings.py\n",
    "# настройки игры\n",
    "\n",
    "RES = WIDTH, HEIGHT = 1600, 900\n",
    "FPS = 60"
   ]
  },
  {
   "cell_type": "markdown",
   "metadata": {},
   "source": [
    "- В `main.py` мы создадим класс **Game**. Если не помните, что такое классы, перейдите по [ссылке](https://python-scripts.com/python-class)\n",
    "- Опишем базовые функции для запуска *черного экрана*"
   ]
  },
  {
   "cell_type": "code",
   "execution_count": 4,
   "metadata": {},
   "outputs": [
    {
     "name": "stdout",
     "output_type": "stream",
     "text": [
      "pygame 2.5.2 (SDL 2.28.2, Python 3.10.12)\n",
      "Hello from the pygame community. https://www.pygame.org/contribute.html\n"
     ]
    },
    {
     "ename": "SystemExit",
     "evalue": "",
     "output_type": "error",
     "traceback": [
      "An exception has occurred, use %tb to see the full traceback.\n",
      "\u001b[0;31mSystemExit\u001b[0m\n"
     ]
    },
    {
     "name": "stderr",
     "output_type": "stream",
     "text": [
      "/home/antonio/.virtualenvs/sites_new/lib/python3.10/site-packages/IPython/core/interactiveshell.py:3516: UserWarning: To exit: use 'exit', 'quit', or Ctrl-D.\n",
      "  warn(\"To exit: use 'exit', 'quit', or Ctrl-D.\", stacklevel=1)\n"
     ]
    }
   ],
   "source": [
    "# main.py\n",
    "import pygame as pg\n",
    "import sys\n",
    "from settings import * \n",
    "\n",
    "class Game:\n",
    "    def __init__(self):\n",
    "        #! для запуска библиотеки pygame\n",
    "        pg.init()\n",
    "        #! для создания экрана, устанавливаем его размер с помошью RES\n",
    "        self.screen = pg.display.set_mode(RES)\n",
    "        self.new_game()\n",
    "    \n",
    "    def new_game(self):\n",
    "        pass\n",
    "    \n",
    "    def update(self):\n",
    "        pg.display.flip()\n",
    "    \n",
    "    def draw(self):\n",
    "        #! настраиваем цвет нашего экрана\n",
    "        #! может принимать цифрой 404040 или строкой с хештегом '#404040' или с помощью tuple (40, 40, 40)\n",
    "        self.screen.fill('black')\n",
    "    \n",
    "    def check_event(self):\n",
    "        #! получаем все только что нажатые кнопки\n",
    "        for event in pg.event.get():\n",
    "            #! проверяем на нужны кнопки\n",
    "            if event.type == pg.QUIT or (event.type == pg.KEYDOWN and event.key == pg.K_ESCAPE):\n",
    "                pg.quit()\n",
    "                sys.exit()\n",
    "    \n",
    "    def run(self):\n",
    "        #! запускаем бесконечный цикл, который будет запускать функции обновления/отрисовки/проверки на выход из игры\n",
    "        while True:\n",
    "            self.check_event()\n",
    "            self.draw()\n",
    "            self.update()\n",
    "            \n",
    "    \n",
    "if __name__ == '__main__':\n",
    "    # Эти строчки будут запускаться, только если запущем именно этот файл\n",
    "    \n",
    "    #! Создаем копию игры (запускается функция __init__)\n",
    "    game = Game()\n",
    "    #! Запускаем run\n",
    "    game.run()\n",
    "\n",
    "    "
   ]
  },
  {
   "cell_type": "markdown",
   "metadata": {},
   "source": [
    "- Далее рецепт игры будет очень простой: мы будем реализовывать класс того, что нам надо. \n",
    "\n",
    "\tЗатем реализуем в этом классе методы (функции) *update*, *draw*. \n",
    "\n",
    "\tПосле импортируем в `main.py`, создаем переменную копии в функции *new_game*, запускаем отрисовку и обновление в функциях *update*, *draw*."
   ]
  },
  {
   "cell_type": "markdown",
   "metadata": {},
   "source": [
    "- Реализуем на примере карты &mdash; `map.py`"
   ]
  },
  {
   "cell_type": "code",
   "execution_count": 5,
   "metadata": {},
   "outputs": [],
   "source": [
    "import pygame as pg\n",
    "\n",
    "_ = False\n",
    "mini_map = [\n",
    "    [1, 1, 1, 1, 1, 1, 1, 1, 1, 1, 1, 1, 1, 1, 1, 1],\n",
    "    [1, _, _, _, _, _, _, _, _, _, _, _, _, _, _, 1],\n",
    "    [1, _, _, _, _, _, _, _, _, _, 1, 1, 1, _, _, 1],\n",
    "    [1, _, _, _, _, _, 1, _, 1, _, _, _, 1, _, _, 1],\n",
    "    [1, _, _, _, _, _, 1, _, _, _, _, _, 1, _, _, 1],\n",
    "    [1, _, _, 1, 1, 1, 1, _, _, _, _, _, _, _, _, 1],\n",
    "    [1, _, _, _, _, _, _, _, _, _, _, _, _, _, _, 1],\n",
    "    [1, _, _, _, 1, _, _, _, 1, _, _, _, _, _, _, 1],\n",
    "    [1, 1, 1, 1, 1, 1, 1, 1, 1, 1, 1, 1, 1, 1, 1, 1],\n",
    "]\n",
    "\n",
    "\n",
    "class Map:\n",
    "    def __init__(self, game):\n",
    "        self.game = game\n",
    "        self.mini_map = mini_map\n",
    "        self.world_map = {}\n",
    "        self.rows = len(self.mini_map)\n",
    "        self.cols = len(self.mini_map[0])\n",
    "        self.get_map()\n",
    "\n",
    "    def get_map(self):\n",
    "        for j, row in enumerate(self.mini_map):\n",
    "            for i, value in enumerate(row):\n",
    "                if value:\n",
    "                    self.world_map[(i, j)] = value\n",
    "\n",
    "    def draw(self):\n",
    "        [pg.draw.rect(self.game.screen, 'darkgray', (pos[0] * 100, pos[1] * 100, 100, 100), 1)\n",
    "         for pos in self.world_map]\n",
    "        \n"
   ]
  },
  {
   "cell_type": "markdown",
   "metadata": {},
   "source": [
    "- Как видим в классе `Map` у нас есть метод `draw`, который нужен для отрисовки\n",
    "- Также заметим, что при создании копии `Map` (функция `__init__`) мы передаем переменную `game`. \n",
    "\n",
    "Карте же надо знать, на каком экране отрисовываться, а данные об экране храняться где? Правильно, в классе `Game`. Поэтому когда мы в `new_game` будем создавать копию `map`:"
   ]
  },
  {
   "cell_type": "markdown",
   "metadata": {},
   "source": [
    "```python\n",
    "def new_game(self):\n",
    "    #! создаем переменную карты\n",
    "    self.map = Map(game=self)\n",
    "```"
   ]
  },
  {
   "cell_type": "markdown",
   "metadata": {},
   "source": [
    "мы в параметр `game` будем класть `self`, потому что там `self` &mdash; копия класса `Game`"
   ]
  },
  {
   "cell_type": "code",
   "execution_count": 6,
   "metadata": {},
   "outputs": [
    {
     "ename": "SystemExit",
     "evalue": "",
     "output_type": "error",
     "traceback": [
      "An exception has occurred, use %tb to see the full traceback.\n",
      "\u001b[0;31mSystemExit\u001b[0m\n"
     ]
    }
   ],
   "source": [
    "# main.py\n",
    "import pygame as pg\n",
    "import sys\n",
    "from settings import * \n",
    "from map import *\n",
    "\n",
    "class Game:\n",
    "    def __init__(self):\n",
    "        pg.init()\n",
    "        self.screen = pg.display.set_mode(RES)\n",
    "        self.new_game()\n",
    "    \n",
    "    def new_game(self):\n",
    "        #! создаем переменную карты\n",
    "        self.map = Map(game=self)\n",
    "    \n",
    "    def update(self):\n",
    "        pg.display.flip()\n",
    "    \n",
    "    def draw(self):\n",
    "        self.screen.fill('black')\n",
    "        #! Запускаем её отрисовку\n",
    "        self.map.draw()\n",
    "    \n",
    "    def check_event(self):\n",
    "        for event in pg.event.get():\n",
    "            if event.type == pg.QUIT or (event.type == pg.KEYDOWN and event.key == pg.K_ESCAPE):\n",
    "                pg.quit()\n",
    "                sys.exit()\n",
    "    \n",
    "    def run(self):\n",
    "        while True:\n",
    "            self.check_event()\n",
    "            self.draw()\n",
    "            self.update()\n",
    "            \n",
    "    \n",
    "if __name__ == '__main__':\n",
    "    # Эти строчки будут запускаться, только если запущем именно этот файл\n",
    "    game = Game()\n",
    "    game.run()\n"
   ]
  }
 ],
 "metadata": {
  "kernelspec": {
   "display_name": "sites_new",
   "language": "python",
   "name": "sites_new"
  },
  "language_info": {
   "codemirror_mode": {
    "name": "ipython",
    "version": 3
   },
   "file_extension": ".py",
   "mimetype": "text/x-python",
   "name": "python",
   "nbconvert_exporter": "python",
   "pygments_lexer": "ipython3",
   "version": "3.10.12"
  }
 },
 "nbformat": 4,
 "nbformat_minor": 2
}
